{
 "cells": [
  {
   "cell_type": "code",
   "execution_count": 1,
   "id": "c10850ad-09ac-40cd-bb2a-a213c97bcecb",
   "metadata": {},
   "outputs": [],
   "source": [
    "import matplotlib.pyplot as plt\n",
    "\n",
    "import pandas as pd\n",
    "import numpy as np\n",
    "import os"
   ]
  },
  {
   "cell_type": "code",
   "execution_count": 2,
   "id": "f4f68f98-ce10-4194-980c-fc5f4718d12b",
   "metadata": {},
   "outputs": [],
   "source": [
    "def smooth_data(data, width):\n",
    "    smoothed = []\n",
    "    for ii in range(len(data) - width):\n",
    "        smoothed.append(np.sum(data[ii: ii+width]) / width)\n",
    "    return smoothed\n",
    "\n",
    "def load_train_history(file_dir):\n",
    "    file_names = os.listdir(file_dir)\n",
    "    file_names = [file_name for file_name in file_names if file_name.startswith('epoch_')]\n",
    "    csv_names = [file_name for file_name in file_names if file_name.endswith('.csv')]\n",
    "    csv_names = sorted(csv_names, key=lambda x: int(x.split('_')[-1].strip('.csv')), reverse=False)\n",
    "    \n",
    "    full_df = None\n",
    "\n",
    "    for csv_name in csv_names:\n",
    "        file_path = os.path.join(file_dir, csv_name)\n",
    "        df = pd.read_csv(file_path)\n",
    "        full_df = df if full_df is None else pd.concat([full_df, df])\n",
    "        \n",
    "    return full_df"
   ]
  },
  {
   "cell_type": "code",
   "execution_count": 6,
   "id": "05325792-718b-4935-96eb-2b76f811c59d",
   "metadata": {},
   "outputs": [
    {
     "name": "stderr",
     "output_type": "stream",
     "text": [
      "/tmp/ipykernel_66/128679617.py:4: FutureWarning: The behavior of `series[i:j]` with an integer-dtype index is deprecated. In a future version, this will be treated as *label-based* indexing, consistent with e.g. `series[i]` lookups. To retain the old behavior, use `series.iloc[i:j]`. To get the future behavior, use `series.loc[i:j]`.\n",
      "  smoothed.append(np.sum(data[ii: ii+width]) / width)\n"
     ]
    },
    {
     "data": {
      "image/png": "[encoded data removed]",
      "text/plain": [
       "<Figure size 640x480 with 1 Axes>"
      ]
     },
     "metadata": {},
     "output_type": "display_data"
    }
   ],
   "source": [
    "loss_record = load_train_history('models/unet_test4')['loss']\n",
    "smoothed = smooth_data(loss_record, 100)\n",
    "\n",
    "plt.plot(smoothed)\n",
    "plt.show()"
   ]
  },
  {
   "cell_type": "code",
   "execution_count": 12,
   "id": "38f57e1c-44e5-4d39-bc7e-9fdc8f898cd3",
   "metadata": {},
   "outputs": [
    {
     "data": {
      "text/html": [
       "<div>\n",
       "<style scoped>\n",
       "    .dataframe tbody tr th:only-of-type {\n",
       "        vertical-align: middle;\n",
       "    }\n",
       "\n",
       "    .dataframe tbody tr th {\n",
       "        vertical-align: top;\n",
       "    }\n",
       "\n",
       "    .dataframe thead th {\n",
       "        text-align: right;\n",
       "    }\n",
       "</style>\n",
       "<table border=\"1\" class=\"dataframe\">\n",
       "  <thead>\n",
       "    <tr style=\"text-align: right;\">\n",
       "      <th></th>\n",
       "      <th>Unnamed: 0</th>\n",
       "      <th>0</th>\n",
       "    </tr>\n",
       "  </thead>\n",
       "  <tbody>\n",
       "    <tr>\n",
       "      <th>0</th>\n",
       "      <td>0</td>\n",
       "      <td>12.067044</td>\n",
       "    </tr>\n",
       "    <tr>\n",
       "      <th>1</th>\n",
       "      <td>1</td>\n",
       "      <td>6.335122</td>\n",
       "    </tr>\n",
       "    <tr>\n",
       "      <th>2</th>\n",
       "      <td>2</td>\n",
       "      <td>5.935755</td>\n",
       "    </tr>\n",
       "    <tr>\n",
       "      <th>3</th>\n",
       "      <td>3</td>\n",
       "      <td>6.702555</td>\n",
       "    </tr>\n",
       "    <tr>\n",
       "      <th>4</th>\n",
       "      <td>4</td>\n",
       "      <td>6.343550</td>\n",
       "    </tr>\n",
       "    <tr>\n",
       "      <th>...</th>\n",
       "      <td>...</td>\n",
       "      <td>...</td>\n",
       "    </tr>\n",
       "    <tr>\n",
       "      <th>37066</th>\n",
       "      <td>37066</td>\n",
       "      <td>2.812547</td>\n",
       "    </tr>\n",
       "    <tr>\n",
       "      <th>37067</th>\n",
       "      <td>37067</td>\n",
       "      <td>2.511343</td>\n",
       "    </tr>\n",
       "    <tr>\n",
       "      <th>37068</th>\n",
       "      <td>37068</td>\n",
       "      <td>2.593340</td>\n",
       "    </tr>\n",
       "    <tr>\n",
       "      <th>37069</th>\n",
       "      <td>37069</td>\n",
       "      <td>3.013650</td>\n",
       "    </tr>\n",
       "    <tr>\n",
       "      <th>37070</th>\n",
       "      <td>37070</td>\n",
       "      <td>2.476806</td>\n",
       "    </tr>\n",
       "  </tbody>\n",
       "</table>\n",
       "<p>74142 rows × 2 columns</p>\n",
       "</div>"
      ],
      "text/plain": [
       "       Unnamed: 0          0\n",
       "0               0  12.067044\n",
       "1               1   6.335122\n",
       "2               2   5.935755\n",
       "3               3   6.702555\n",
       "4               4   6.343550\n",
       "...           ...        ...\n",
       "37066       37066   2.812547\n",
       "37067       37067   2.511343\n",
       "37068       37068   2.593340\n",
       "37069       37069   3.013650\n",
       "37070       37070   2.476806\n",
       "\n",
       "[74142 rows x 2 columns]"
      ]
     },
     "execution_count": 12,
     "metadata": {},
     "output_type": "execute_result"
    }
   ],
   "source": [
    "load_train_history('models/unet_test3')"
   ]
  }
 ],
 "metadata": {
  "kernelspec": {
   "display_name": "Python 3 (ipykernel)",
   "language": "python",
   "name": "python3"
  },
  "language_info": {
   "codemirror_mode": {
    "name": "ipython",
    "version": 3
   },
   "file_extension": ".py",
   "mimetype": "text/x-python",
   "name": "python",
   "nbconvert_exporter": "python",
   "pygments_lexer": "ipython3",
   "version": "3.9.16"
  }
 },
 "nbformat": 4,
 "nbformat_minor": 5
}
